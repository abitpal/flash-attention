{
 "cells": [
  {
   "cell_type": "code",
   "execution_count": 1,
   "id": "132ba428",
   "metadata": {},
   "outputs": [],
   "source": [
    "import torch\n",
    "import torch.nn as nn"
   ]
  },
  {
   "cell_type": "code",
   "execution_count": 46,
   "id": "9912e723",
   "metadata": {},
   "outputs": [],
   "source": [
    "batch_size = 8\n",
    "num_heads = 2\n",
    "seq_len_n = 1024\n",
    "seq_len_k = 1024\n",
    "embed_dim = 256\n",
    "\n",
    "mha = nn.MultiheadAttention(embed_dim=embed_dim, num_heads=num_heads, batch_first=True).to(\"cuda\")\n",
    "query = torch.randn(batch_size, seq_len_n, embed_dim).to(\"cuda\")\n",
    "key = torch.randn(batch_size, seq_len_k, embed_dim).to(\"cuda\")\n",
    "value = torch.randn(batch_size, seq_len_k, embed_dim).to(\"cuda\")"
   ]
  },
  {
   "cell_type": "code",
   "execution_count": 47,
   "id": "2e04f826",
   "metadata": {},
   "outputs": [
    {
     "name": "stdout",
     "output_type": "stream",
     "text": [
      "1.32 ms ± 0 ns per loop (mean ± std. dev. of 1 run, 1 loop each)\n"
     ]
    }
   ],
   "source": [
    "%timeit -r 1 -n 1 mha(query, key, value)"
   ]
  },
  {
   "cell_type": "code",
   "execution_count": null,
   "id": "220ab4e6",
   "metadata": {},
   "outputs": [],
   "source": []
  }
 ],
 "metadata": {
  "kernelspec": {
   "display_name": "gpudrive",
   "language": "python",
   "name": "python3"
  },
  "language_info": {
   "codemirror_mode": {
    "name": "ipython",
    "version": 3
   },
   "file_extension": ".py",
   "mimetype": "text/x-python",
   "name": "python",
   "nbconvert_exporter": "python",
   "pygments_lexer": "ipython3",
   "version": "3.11.8"
  }
 },
 "nbformat": 4,
 "nbformat_minor": 5
}
